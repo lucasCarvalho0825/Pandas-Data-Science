{
  "nbformat": 4,
  "nbformat_minor": 0,
  "metadata": {
    "colab": {
      "provenance": [],
      "include_colab_link": true
    },
    "kernelspec": {
      "name": "python3",
      "display_name": "Python 3"
    }
  },
  "cells": [
    {
      "cell_type": "markdown",
      "metadata": {
        "id": "view-in-github",
        "colab_type": "text"
      },
      "source": [
        "<a href=\"https://colab.research.google.com/github/lucasCarvalho0825/Pandas-Data-Science/blob/main/Python_Data_Science.ipynb\" target=\"_parent\"><img src=\"https://colab.research.google.com/assets/colab-badge.svg\" alt=\"Open In Colab\"/></a>"
      ]
    },
    {
      "cell_type": "markdown",
      "metadata": {
        "id": "nISFz7dINi56"
      },
      "source": [
        "## Configurando o ambiente - Checando dependências"
      ]
    },
    {
      "cell_type": "code",
      "metadata": {
        "id": "8YJyaMWLNjRR"
      },
      "source": [
        "# Importa bibliotecas necessárias - Geralmente é a primeira célula de código do seu notebook\n",
        "import pandas as pd\n",
        "from matplotlib import pyplot as plt\n",
        "import matplotlib as mplot\n",
        "import seaborn as sns\n",
        "%matplotlib inline"
      ],
      "execution_count": null,
      "outputs": []
    },
    {
      "cell_type": "markdown",
      "metadata": {
        "id": "9mco-m1lOHoN"
      },
      "source": [
        "## Google Colab/Jupyter - Atalhos e conveniências"
      ]
    },
    {
      "cell_type": "code",
      "metadata": {
        "id": "fuf8WfNkOy2_"
      },
      "source": [
        "# Teclas de atalho\n",
        "\n",
        "# EXECUTAR CÉLULA: shift+enter\n",
        "# INSERE CELULA ACIMA: Ctrl+m+a\n",
        "# INSERE CELULA ABAIXO: Ctrl+m+b\n",
        "# COMENTAR CÓDIGO: Ctrl+/"
      ],
      "execution_count": null,
      "outputs": []
    },
    {
      "cell_type": "code",
      "metadata": {
        "id": "E4Vm-NbjPeev"
      },
      "source": [
        "# Obtém ajuda sobre função\n",
        "pd.read_csv??"
      ],
      "execution_count": null,
      "outputs": []
    },
    {
      "cell_type": "code",
      "metadata": {
        "id": "Cb5UDGL3PiCc"
      },
      "source": [
        "# Exemplo de mensagem de erro\n",
        "print(nlp)"
      ],
      "execution_count": null,
      "outputs": []
    },
    {
      "cell_type": "markdown",
      "metadata": {
        "id": "rthj_Gp9J4qL"
      },
      "source": [
        "### Acessar arquivos no Google Colab\n",
        "A seguir algumas maneiras diferentes de importar arquivos para dentro do ambiente Google Colab. Escolha uma delas para importar os arquivos disponíveis [neste repositório](https://github.com/kunkaweb/articles-data)."
      ]
    },
    {
      "cell_type": "markdown",
      "metadata": {
        "id": "e16oZah9KC66"
      },
      "source": [
        "#### 1) via Google Drive"
      ]
    },
    {
      "cell_type": "code",
      "metadata": {
        "id": "C6NRUXmGKKpr"
      },
      "source": [
        "# Acesso a URL que aparecer, e copie o código de autorização abaixo - assim o Google Colab terá permissão para ler arquivos do seu Google Drive\n",
        "from google.colab import drive\n",
        "drive.mount('/content/drive', force_remount=True)"
      ],
      "execution_count": null,
      "outputs": []
    },
    {
      "cell_type": "code",
      "metadata": {
        "id": "xeu1xj46Lw_e"
      },
      "source": [
        "# Mostra listagem de arquivos na pasta raiz do Google Drive\n",
        "!ls \"/content/drive/My Drive\""
      ],
      "execution_count": null,
      "outputs": []
    },
    {
      "cell_type": "code",
      "metadata": {
        "id": "MvJzVuyCKpZh"
      },
      "source": [
        "# Uma vez executada a etapa acima, sempre que você referências um arquivo do você deve colocar :\n",
        "#path = \"/content/drive/My Drive/CAMINHO/ATE/O/ARQUIVO/DESEJADO/\"\n",
        "\n",
        "# Exemplo - Ler o arquivo teste.txt que se encontra na pasta raiz de meu Google Drive\n",
        "f = open(\"/content/drive/My Drive/teste.txt\", \"r\")\n",
        "print(f.read())"
      ],
      "execution_count": null,
      "outputs": []
    },
    {
      "cell_type": "markdown",
      "metadata": {
        "id": "3XPRL3wxMlA2"
      },
      "source": [
        "#### 2) Via botão de UPLOAD\n",
        "Neste caso basta ir até o painel esquerdo do Google Colab, acessar a aba FILES e apertar o botão UPLOAD. Nesse caso você selecionará o arquivo desejado, que será enviado para uso na instância atual do Google Colab.\n",
        "\n",
        "**IMPORTANTE**: O arquivo será automaticamente apagado a cada reinicio de sua instância do Google Colab."
      ]
    },
    {
      "cell_type": "markdown",
      "metadata": {
        "id": "HbFYIQlhNBWM"
      },
      "source": [
        "#### 3) Via github"
      ]
    },
    {
      "cell_type": "code",
      "metadata": {
        "id": "14b8PDmjNmtF"
      },
      "source": [
        "import os\n",
        "# Verifica se o arquivo já existe na instância atual.  Se não, faz download do github\n",
        "if not os.path.exists('articles-data/artigo_1.txt'):\n",
        "    print(\"Diretório ainda não existe!\")\n",
        "    print(\"Obtendo dados do github...\")\n",
        "\n",
        "    !git clone https://github.com/kunkaweb/articles-data.git\n",
        "      \n",
        "print('O diretório baixado contém:\\n',os.listdir('articles-data'))"
      ],
      "execution_count": null,
      "outputs": []
    },
    {
      "cell_type": "markdown",
      "metadata": {
        "id": "V8VB9adiRYG5"
      },
      "source": [
        "> **IMPORTANTE:** Você deve ficar atento com as mensagens de erro do Python, pois constantemente você precisará compreendê-las para corrigir o problema\n",
        "\n",
        "\n",
        "![Python - Fluxograma de erros](https://docs.google.com/uc?export=download&id=1OsOcyHMzKIEWs1rLPdShTTn_Td-mQHjo)"
      ]
    },
    {
      "cell_type": "markdown",
      "metadata": {
        "id": "q1Xkxh5cSYDF"
      },
      "source": [
        "## Pandas Dataframes\n",
        "Pandas é um dos pacotes mais importantes de Data Science no Python. A biblioteca permite que você manipule dados de maneira semalhante a uma planilha do Excel, com dados dispostos em linhas e colunas.\n",
        "\n",
        "**Propósito**\n",
        "*   Limpar\n",
        "*   Transformar\n",
        "*   Analisar\n",
        "\n",
        "**Exemplos de uso**:\n",
        "*   *Calcular estatísticas e responder perguntas sobre os dados* -\n",
        "Qual a média, mediana, valor máximo e mínimo de cada coluna?\n",
        "Coluna A se correlaciona com a coluna B?\n",
        "Como é a distribuição dos dados na coluna C?\n",
        "*   *Limpar os dados* - remover valores ausentes, filtrar linhas ou colunas utilizando critérios específicos\n",
        "*   *Visualizar os dados com a ajuda do Matplotlib* - Desenhar gráficos de barras, linhas, histogramas, etc.\n",
        "*   *Exportar dados limpos e tranformados para arquivos (e.g., csv) ou bancos de dados*.\n"
      ]
    },
    {
      "cell_type": "markdown",
      "metadata": {
        "id": "MqKZx1FAGqK4"
      },
      "source": [
        "![Pandas - Componentes principais](https://docs.google.com/uc?export=download&id=1tdCaB202YRxSVir-5QNAtra0CpY3esWK)\n",
        "\n",
        "`DataFrames` e `Series` são muito semelhantes, pois muitas operações podem ser feitas com uma ou com a outra (e.g., preencher valores nulos, calcular a média)\n"
      ]
    },
    {
      "cell_type": "markdown",
      "metadata": {
        "id": "5vXjUn8qKRsU"
      },
      "source": [
        "### Pandas - **Exemplo prático 1**\n",
        "Uma quitanda de frutas vende maçãs e laranjas. Precisamos uma coluna para cada fruta e uma linha para cada compra do cliente.\n",
        "\n"
      ]
    },
    {
      "cell_type": "markdown",
      "metadata": {
        "id": "8dLRbLl9MHUY"
      },
      "source": [
        "#### **Possibilidade 1** - Criar `DataFrame` a partir de `Series`"
      ]
    },
    {
      "cell_type": "code",
      "metadata": {
        "id": "0mnL23Y_KuTB",
        "outputId": "823c2359-7711-4407-efb6-2216dda0fab7",
        "colab": {
          "base_uri": "https://localhost:8080/",
          "height": 175
        }
      },
      "source": [
        "# Importa a biblioteca pandas - Deve ser chamado uma única vez durante todo notebook/script\n",
        "import pandas as pd\n",
        "\n",
        "# Cria duas séries\n",
        "s1 = pd.Series([3, 2, 0, 1], name='macas', dtype=int)\n",
        "s2 = pd.Series([0, 3, 7, 2], name='laranjas', dtype=int)\n",
        "\n",
        "# Cria um DataFrame a partir das Séries\n",
        "# axis=1 interpreta cada série como uma coluna.  axis=2 cada série seria uma linha.\n",
        "comprasDf = pd.concat([s1,s2],axis=1)\n",
        "\n",
        "# Mostra o DataFrame\n",
        "display(comprasDf)"
      ],
      "execution_count": null,
      "outputs": [
        {
          "output_type": "display_data",
          "data": {
            "text/plain": [
              "   macas  laranjas\n",
              "0      3         0\n",
              "1      2         3\n",
              "2      0         7\n",
              "3      1         2"
            ],
            "text/html": [
              "\n",
              "  <div id=\"df-133b6865-8c5b-4df1-a7e3-8d323eed442e\">\n",
              "    <div class=\"colab-df-container\">\n",
              "      <div>\n",
              "<style scoped>\n",
              "    .dataframe tbody tr th:only-of-type {\n",
              "        vertical-align: middle;\n",
              "    }\n",
              "\n",
              "    .dataframe tbody tr th {\n",
              "        vertical-align: top;\n",
              "    }\n",
              "\n",
              "    .dataframe thead th {\n",
              "        text-align: right;\n",
              "    }\n",
              "</style>\n",
              "<table border=\"1\" class=\"dataframe\">\n",
              "  <thead>\n",
              "    <tr style=\"text-align: right;\">\n",
              "      <th></th>\n",
              "      <th>macas</th>\n",
              "      <th>laranjas</th>\n",
              "    </tr>\n",
              "  </thead>\n",
              "  <tbody>\n",
              "    <tr>\n",
              "      <th>0</th>\n",
              "      <td>3</td>\n",
              "      <td>0</td>\n",
              "    </tr>\n",
              "    <tr>\n",
              "      <th>1</th>\n",
              "      <td>2</td>\n",
              "      <td>3</td>\n",
              "    </tr>\n",
              "    <tr>\n",
              "      <th>2</th>\n",
              "      <td>0</td>\n",
              "      <td>7</td>\n",
              "    </tr>\n",
              "    <tr>\n",
              "      <th>3</th>\n",
              "      <td>1</td>\n",
              "      <td>2</td>\n",
              "    </tr>\n",
              "  </tbody>\n",
              "</table>\n",
              "</div>\n",
              "      <button class=\"colab-df-convert\" onclick=\"convertToInteractive('df-133b6865-8c5b-4df1-a7e3-8d323eed442e')\"\n",
              "              title=\"Convert this dataframe to an interactive table.\"\n",
              "              style=\"display:none;\">\n",
              "        \n",
              "  <svg xmlns=\"http://www.w3.org/2000/svg\" height=\"24px\"viewBox=\"0 0 24 24\"\n",
              "       width=\"24px\">\n",
              "    <path d=\"M0 0h24v24H0V0z\" fill=\"none\"/>\n",
              "    <path d=\"M18.56 5.44l.94 2.06.94-2.06 2.06-.94-2.06-.94-.94-2.06-.94 2.06-2.06.94zm-11 1L8.5 8.5l.94-2.06 2.06-.94-2.06-.94L8.5 2.5l-.94 2.06-2.06.94zm10 10l.94 2.06.94-2.06 2.06-.94-2.06-.94-.94-2.06-.94 2.06-2.06.94z\"/><path d=\"M17.41 7.96l-1.37-1.37c-.4-.4-.92-.59-1.43-.59-.52 0-1.04.2-1.43.59L10.3 9.45l-7.72 7.72c-.78.78-.78 2.05 0 2.83L4 21.41c.39.39.9.59 1.41.59.51 0 1.02-.2 1.41-.59l7.78-7.78 2.81-2.81c.8-.78.8-2.07 0-2.86zM5.41 20L4 18.59l7.72-7.72 1.47 1.35L5.41 20z\"/>\n",
              "  </svg>\n",
              "      </button>\n",
              "      \n",
              "  <style>\n",
              "    .colab-df-container {\n",
              "      display:flex;\n",
              "      flex-wrap:wrap;\n",
              "      gap: 12px;\n",
              "    }\n",
              "\n",
              "    .colab-df-convert {\n",
              "      background-color: #E8F0FE;\n",
              "      border: none;\n",
              "      border-radius: 50%;\n",
              "      cursor: pointer;\n",
              "      display: none;\n",
              "      fill: #1967D2;\n",
              "      height: 32px;\n",
              "      padding: 0 0 0 0;\n",
              "      width: 32px;\n",
              "    }\n",
              "\n",
              "    .colab-df-convert:hover {\n",
              "      background-color: #E2EBFA;\n",
              "      box-shadow: 0px 1px 2px rgba(60, 64, 67, 0.3), 0px 1px 3px 1px rgba(60, 64, 67, 0.15);\n",
              "      fill: #174EA6;\n",
              "    }\n",
              "\n",
              "    [theme=dark] .colab-df-convert {\n",
              "      background-color: #3B4455;\n",
              "      fill: #D2E3FC;\n",
              "    }\n",
              "\n",
              "    [theme=dark] .colab-df-convert:hover {\n",
              "      background-color: #434B5C;\n",
              "      box-shadow: 0px 1px 3px 1px rgba(0, 0, 0, 0.15);\n",
              "      filter: drop-shadow(0px 1px 2px rgba(0, 0, 0, 0.3));\n",
              "      fill: #FFFFFF;\n",
              "    }\n",
              "  </style>\n",
              "\n",
              "      <script>\n",
              "        const buttonEl =\n",
              "          document.querySelector('#df-133b6865-8c5b-4df1-a7e3-8d323eed442e button.colab-df-convert');\n",
              "        buttonEl.style.display =\n",
              "          google.colab.kernel.accessAllowed ? 'block' : 'none';\n",
              "\n",
              "        async function convertToInteractive(key) {\n",
              "          const element = document.querySelector('#df-133b6865-8c5b-4df1-a7e3-8d323eed442e');\n",
              "          const dataTable =\n",
              "            await google.colab.kernel.invokeFunction('convertToInteractive',\n",
              "                                                     [key], {});\n",
              "          if (!dataTable) return;\n",
              "\n",
              "          const docLinkHtml = 'Like what you see? Visit the ' +\n",
              "            '<a target=\"_blank\" href=https://colab.research.google.com/notebooks/data_table.ipynb>data table notebook</a>'\n",
              "            + ' to learn more about interactive tables.';\n",
              "          element.innerHTML = '';\n",
              "          dataTable['output_type'] = 'display_data';\n",
              "          await google.colab.output.renderOutput(dataTable, element);\n",
              "          const docLink = document.createElement('div');\n",
              "          docLink.innerHTML = docLinkHtml;\n",
              "          element.appendChild(docLink);\n",
              "        }\n",
              "      </script>\n",
              "    </div>\n",
              "  </div>\n",
              "  "
            ]
          },
          "metadata": {}
        }
      ]
    },
    {
      "cell_type": "markdown",
      "metadata": {
        "id": "hLpkkdB9MdNC"
      },
      "source": [
        "#### **Possibilidade 2** - Criar `DataFrame` a partir de um `dict`"
      ]
    },
    {
      "cell_type": "code",
      "metadata": {
        "id": "O9pqefXxM7He",
        "outputId": "a9dd9ffe-54db-4811-a69b-5114166a2048",
        "colab": {
          "base_uri": "https://localhost:8080/",
          "height": 175
        }
      },
      "source": [
        "# Cria um dicionário em Python\n",
        "dados = {\t\n",
        "\t'macas': \t\t[3, 2, 0, 1], \n",
        "\t'laranjas':\t[0, 3, 7, 2] \n",
        "}\n",
        "\n",
        "# Cria um DataFrame a partir do dicionário\n",
        "comprasDf = pd.DataFrame(dados)\n",
        "\n",
        "# Mostra o DataFrame\n",
        "display(comprasDf)"
      ],
      "execution_count": null,
      "outputs": [
        {
          "output_type": "display_data",
          "data": {
            "text/plain": [
              "   macas  laranjas\n",
              "0      3         0\n",
              "1      2         3\n",
              "2      0         7\n",
              "3      1         2"
            ],
            "text/html": [
              "\n",
              "  <div id=\"df-c7e2b6ff-d1d9-4f3e-b7ed-7ab7221fce40\">\n",
              "    <div class=\"colab-df-container\">\n",
              "      <div>\n",
              "<style scoped>\n",
              "    .dataframe tbody tr th:only-of-type {\n",
              "        vertical-align: middle;\n",
              "    }\n",
              "\n",
              "    .dataframe tbody tr th {\n",
              "        vertical-align: top;\n",
              "    }\n",
              "\n",
              "    .dataframe thead th {\n",
              "        text-align: right;\n",
              "    }\n",
              "</style>\n",
              "<table border=\"1\" class=\"dataframe\">\n",
              "  <thead>\n",
              "    <tr style=\"text-align: right;\">\n",
              "      <th></th>\n",
              "      <th>macas</th>\n",
              "      <th>laranjas</th>\n",
              "    </tr>\n",
              "  </thead>\n",
              "  <tbody>\n",
              "    <tr>\n",
              "      <th>0</th>\n",
              "      <td>3</td>\n",
              "      <td>0</td>\n",
              "    </tr>\n",
              "    <tr>\n",
              "      <th>1</th>\n",
              "      <td>2</td>\n",
              "      <td>3</td>\n",
              "    </tr>\n",
              "    <tr>\n",
              "      <th>2</th>\n",
              "      <td>0</td>\n",
              "      <td>7</td>\n",
              "    </tr>\n",
              "    <tr>\n",
              "      <th>3</th>\n",
              "      <td>1</td>\n",
              "      <td>2</td>\n",
              "    </tr>\n",
              "  </tbody>\n",
              "</table>\n",
              "</div>\n",
              "      <button class=\"colab-df-convert\" onclick=\"convertToInteractive('df-c7e2b6ff-d1d9-4f3e-b7ed-7ab7221fce40')\"\n",
              "              title=\"Convert this dataframe to an interactive table.\"\n",
              "              style=\"display:none;\">\n",
              "        \n",
              "  <svg xmlns=\"http://www.w3.org/2000/svg\" height=\"24px\"viewBox=\"0 0 24 24\"\n",
              "       width=\"24px\">\n",
              "    <path d=\"M0 0h24v24H0V0z\" fill=\"none\"/>\n",
              "    <path d=\"M18.56 5.44l.94 2.06.94-2.06 2.06-.94-2.06-.94-.94-2.06-.94 2.06-2.06.94zm-11 1L8.5 8.5l.94-2.06 2.06-.94-2.06-.94L8.5 2.5l-.94 2.06-2.06.94zm10 10l.94 2.06.94-2.06 2.06-.94-2.06-.94-.94-2.06-.94 2.06-2.06.94z\"/><path d=\"M17.41 7.96l-1.37-1.37c-.4-.4-.92-.59-1.43-.59-.52 0-1.04.2-1.43.59L10.3 9.45l-7.72 7.72c-.78.78-.78 2.05 0 2.83L4 21.41c.39.39.9.59 1.41.59.51 0 1.02-.2 1.41-.59l7.78-7.78 2.81-2.81c.8-.78.8-2.07 0-2.86zM5.41 20L4 18.59l7.72-7.72 1.47 1.35L5.41 20z\"/>\n",
              "  </svg>\n",
              "      </button>\n",
              "      \n",
              "  <style>\n",
              "    .colab-df-container {\n",
              "      display:flex;\n",
              "      flex-wrap:wrap;\n",
              "      gap: 12px;\n",
              "    }\n",
              "\n",
              "    .colab-df-convert {\n",
              "      background-color: #E8F0FE;\n",
              "      border: none;\n",
              "      border-radius: 50%;\n",
              "      cursor: pointer;\n",
              "      display: none;\n",
              "      fill: #1967D2;\n",
              "      height: 32px;\n",
              "      padding: 0 0 0 0;\n",
              "      width: 32px;\n",
              "    }\n",
              "\n",
              "    .colab-df-convert:hover {\n",
              "      background-color: #E2EBFA;\n",
              "      box-shadow: 0px 1px 2px rgba(60, 64, 67, 0.3), 0px 1px 3px 1px rgba(60, 64, 67, 0.15);\n",
              "      fill: #174EA6;\n",
              "    }\n",
              "\n",
              "    [theme=dark] .colab-df-convert {\n",
              "      background-color: #3B4455;\n",
              "      fill: #D2E3FC;\n",
              "    }\n",
              "\n",
              "    [theme=dark] .colab-df-convert:hover {\n",
              "      background-color: #434B5C;\n",
              "      box-shadow: 0px 1px 3px 1px rgba(0, 0, 0, 0.15);\n",
              "      filter: drop-shadow(0px 1px 2px rgba(0, 0, 0, 0.3));\n",
              "      fill: #FFFFFF;\n",
              "    }\n",
              "  </style>\n",
              "\n",
              "      <script>\n",
              "        const buttonEl =\n",
              "          document.querySelector('#df-c7e2b6ff-d1d9-4f3e-b7ed-7ab7221fce40 button.colab-df-convert');\n",
              "        buttonEl.style.display =\n",
              "          google.colab.kernel.accessAllowed ? 'block' : 'none';\n",
              "\n",
              "        async function convertToInteractive(key) {\n",
              "          const element = document.querySelector('#df-c7e2b6ff-d1d9-4f3e-b7ed-7ab7221fce40');\n",
              "          const dataTable =\n",
              "            await google.colab.kernel.invokeFunction('convertToInteractive',\n",
              "                                                     [key], {});\n",
              "          if (!dataTable) return;\n",
              "\n",
              "          const docLinkHtml = 'Like what you see? Visit the ' +\n",
              "            '<a target=\"_blank\" href=https://colab.research.google.com/notebooks/data_table.ipynb>data table notebook</a>'\n",
              "            + ' to learn more about interactive tables.';\n",
              "          element.innerHTML = '';\n",
              "          dataTable['output_type'] = 'display_data';\n",
              "          await google.colab.output.renderOutput(dataTable, element);\n",
              "          const docLink = document.createElement('div');\n",
              "          docLink.innerHTML = docLinkHtml;\n",
              "          element.appendChild(docLink);\n",
              "        }\n",
              "      </script>\n",
              "    </div>\n",
              "  </div>\n",
              "  "
            ]
          },
          "metadata": {}
        }
      ]
    },
    {
      "cell_type": "markdown",
      "metadata": {
        "id": "qQi5Dc1hzKjU"
      },
      "source": [
        "![Pandas - DataFrame](https://docs.google.com/uc?export=download&id=1kbdy0HzfDg2BWoQKL9-xZS8NFAM9QDpy)"
      ]
    },
    {
      "cell_type": "markdown",
      "metadata": {
        "id": "kTNsz2kd0oww"
      },
      "source": [
        "#### Alterando os índices do `DataFrame`"
      ]
    },
    {
      "cell_type": "code",
      "metadata": {
        "id": "XSyPZmuO01av",
        "outputId": "cd72fdfb-43e5-4155-d7bf-d9b913a1fa4f",
        "colab": {
          "base_uri": "https://localhost:8080/",
          "height": 175
        }
      },
      "source": [
        "# Substitui índices numéricos criados automaticamente pela lista de nomes de clientes\n",
        "comprasDf = pd.DataFrame(dados, index=['Lucas', 'Paulo', 'Ana', 'Maria'])\n",
        "\n",
        "# Mostra o DataFrame\n",
        "display(comprasDf)"
      ],
      "execution_count": null,
      "outputs": [
        {
          "output_type": "display_data",
          "data": {
            "text/plain": [
              "       macas  laranjas\n",
              "Lucas      3         0\n",
              "Paulo      2         3\n",
              "Ana        0         7\n",
              "Maria      1         2"
            ],
            "text/html": [
              "\n",
              "  <div id=\"df-21389884-010d-4a1e-ab05-5f690bbbaaca\">\n",
              "    <div class=\"colab-df-container\">\n",
              "      <div>\n",
              "<style scoped>\n",
              "    .dataframe tbody tr th:only-of-type {\n",
              "        vertical-align: middle;\n",
              "    }\n",
              "\n",
              "    .dataframe tbody tr th {\n",
              "        vertical-align: top;\n",
              "    }\n",
              "\n",
              "    .dataframe thead th {\n",
              "        text-align: right;\n",
              "    }\n",
              "</style>\n",
              "<table border=\"1\" class=\"dataframe\">\n",
              "  <thead>\n",
              "    <tr style=\"text-align: right;\">\n",
              "      <th></th>\n",
              "      <th>macas</th>\n",
              "      <th>laranjas</th>\n",
              "    </tr>\n",
              "  </thead>\n",
              "  <tbody>\n",
              "    <tr>\n",
              "      <th>Lucas</th>\n",
              "      <td>3</td>\n",
              "      <td>0</td>\n",
              "    </tr>\n",
              "    <tr>\n",
              "      <th>Paulo</th>\n",
              "      <td>2</td>\n",
              "      <td>3</td>\n",
              "    </tr>\n",
              "    <tr>\n",
              "      <th>Ana</th>\n",
              "      <td>0</td>\n",
              "      <td>7</td>\n",
              "    </tr>\n",
              "    <tr>\n",
              "      <th>Maria</th>\n",
              "      <td>1</td>\n",
              "      <td>2</td>\n",
              "    </tr>\n",
              "  </tbody>\n",
              "</table>\n",
              "</div>\n",
              "      <button class=\"colab-df-convert\" onclick=\"convertToInteractive('df-21389884-010d-4a1e-ab05-5f690bbbaaca')\"\n",
              "              title=\"Convert this dataframe to an interactive table.\"\n",
              "              style=\"display:none;\">\n",
              "        \n",
              "  <svg xmlns=\"http://www.w3.org/2000/svg\" height=\"24px\"viewBox=\"0 0 24 24\"\n",
              "       width=\"24px\">\n",
              "    <path d=\"M0 0h24v24H0V0z\" fill=\"none\"/>\n",
              "    <path d=\"M18.56 5.44l.94 2.06.94-2.06 2.06-.94-2.06-.94-.94-2.06-.94 2.06-2.06.94zm-11 1L8.5 8.5l.94-2.06 2.06-.94-2.06-.94L8.5 2.5l-.94 2.06-2.06.94zm10 10l.94 2.06.94-2.06 2.06-.94-2.06-.94-.94-2.06-.94 2.06-2.06.94z\"/><path d=\"M17.41 7.96l-1.37-1.37c-.4-.4-.92-.59-1.43-.59-.52 0-1.04.2-1.43.59L10.3 9.45l-7.72 7.72c-.78.78-.78 2.05 0 2.83L4 21.41c.39.39.9.59 1.41.59.51 0 1.02-.2 1.41-.59l7.78-7.78 2.81-2.81c.8-.78.8-2.07 0-2.86zM5.41 20L4 18.59l7.72-7.72 1.47 1.35L5.41 20z\"/>\n",
              "  </svg>\n",
              "      </button>\n",
              "      \n",
              "  <style>\n",
              "    .colab-df-container {\n",
              "      display:flex;\n",
              "      flex-wrap:wrap;\n",
              "      gap: 12px;\n",
              "    }\n",
              "\n",
              "    .colab-df-convert {\n",
              "      background-color: #E8F0FE;\n",
              "      border: none;\n",
              "      border-radius: 50%;\n",
              "      cursor: pointer;\n",
              "      display: none;\n",
              "      fill: #1967D2;\n",
              "      height: 32px;\n",
              "      padding: 0 0 0 0;\n",
              "      width: 32px;\n",
              "    }\n",
              "\n",
              "    .colab-df-convert:hover {\n",
              "      background-color: #E2EBFA;\n",
              "      box-shadow: 0px 1px 2px rgba(60, 64, 67, 0.3), 0px 1px 3px 1px rgba(60, 64, 67, 0.15);\n",
              "      fill: #174EA6;\n",
              "    }\n",
              "\n",
              "    [theme=dark] .colab-df-convert {\n",
              "      background-color: #3B4455;\n",
              "      fill: #D2E3FC;\n",
              "    }\n",
              "\n",
              "    [theme=dark] .colab-df-convert:hover {\n",
              "      background-color: #434B5C;\n",
              "      box-shadow: 0px 1px 3px 1px rgba(0, 0, 0, 0.15);\n",
              "      filter: drop-shadow(0px 1px 2px rgba(0, 0, 0, 0.3));\n",
              "      fill: #FFFFFF;\n",
              "    }\n",
              "  </style>\n",
              "\n",
              "      <script>\n",
              "        const buttonEl =\n",
              "          document.querySelector('#df-21389884-010d-4a1e-ab05-5f690bbbaaca button.colab-df-convert');\n",
              "        buttonEl.style.display =\n",
              "          google.colab.kernel.accessAllowed ? 'block' : 'none';\n",
              "\n",
              "        async function convertToInteractive(key) {\n",
              "          const element = document.querySelector('#df-21389884-010d-4a1e-ab05-5f690bbbaaca');\n",
              "          const dataTable =\n",
              "            await google.colab.kernel.invokeFunction('convertToInteractive',\n",
              "                                                     [key], {});\n",
              "          if (!dataTable) return;\n",
              "\n",
              "          const docLinkHtml = 'Like what you see? Visit the ' +\n",
              "            '<a target=\"_blank\" href=https://colab.research.google.com/notebooks/data_table.ipynb>data table notebook</a>'\n",
              "            + ' to learn more about interactive tables.';\n",
              "          element.innerHTML = '';\n",
              "          dataTable['output_type'] = 'display_data';\n",
              "          await google.colab.output.renderOutput(dataTable, element);\n",
              "          const docLink = document.createElement('div');\n",
              "          docLink.innerHTML = docLinkHtml;\n",
              "          element.appendChild(docLink);\n",
              "        }\n",
              "      </script>\n",
              "    </div>\n",
              "  </div>\n",
              "  "
            ]
          },
          "metadata": {}
        }
      ]
    },
    {
      "cell_type": "markdown",
      "metadata": {
        "id": "m4gNtG8M5pni"
      },
      "source": [
        "#### Coletando informações gerais sobre o `DataFrame`"
      ]
    },
    {
      "cell_type": "code",
      "metadata": {
        "id": "EXwvUdnB5pyT",
        "outputId": "4331d98d-cb5c-4719-d39f-5c9ec68f4acb",
        "colab": {
          "base_uri": "https://localhost:8080/"
        }
      },
      "source": [
        "#Linhas x Colunas\n",
        "comprasDf.shape"
      ],
      "execution_count": null,
      "outputs": [
        {
          "output_type": "execute_result",
          "data": {
            "text/plain": [
              "(4, 2)"
            ]
          },
          "metadata": {},
          "execution_count": 5
        }
      ]
    },
    {
      "cell_type": "code",
      "metadata": {
        "id": "DRmE1lnh5zsu",
        "outputId": "3ccc16d5-bffc-4da8-f5c4-1f26fcc93d16",
        "colab": {
          "base_uri": "https://localhost:8080/"
        }
      },
      "source": [
        "#Índices/linhas\n",
        "comprasDf.index"
      ],
      "execution_count": null,
      "outputs": [
        {
          "output_type": "execute_result",
          "data": {
            "text/plain": [
              "Index(['Lucas', 'Paulo', 'Ana', 'Maria'], dtype='object')"
            ]
          },
          "metadata": {},
          "execution_count": 6
        }
      ]
    },
    {
      "cell_type": "code",
      "metadata": {
        "id": "iV1ME6q75zyi",
        "outputId": "1a6f2d02-2ed7-40af-9135-c354d62206a7",
        "colab": {
          "base_uri": "https://localhost:8080/"
        }
      },
      "source": [
        "#Colunas\n",
        "comprasDf.columns"
      ],
      "execution_count": null,
      "outputs": [
        {
          "output_type": "execute_result",
          "data": {
            "text/plain": [
              "Index(['macas', 'laranjas'], dtype='object')"
            ]
          },
          "metadata": {},
          "execution_count": 7
        }
      ]
    },
    {
      "cell_type": "code",
      "metadata": {
        "id": "n5tiAr6m5z48",
        "outputId": "c9bf0056-74de-447d-fcb9-51aba2057a2c",
        "colab": {
          "base_uri": "https://localhost:8080/"
        }
      },
      "source": [
        "#Quantidade de itens por coluna\n",
        "comprasDf.count()"
      ],
      "execution_count": null,
      "outputs": [
        {
          "output_type": "execute_result",
          "data": {
            "text/plain": [
              "macas       4\n",
              "laranjas    4\n",
              "dtype: int64"
            ]
          },
          "metadata": {},
          "execution_count": 8
        }
      ]
    },
    {
      "cell_type": "markdown",
      "metadata": {
        "id": "AFiRweAl1Wmz"
      },
      "source": [
        "#### Localizando itens pelo índice\n"
      ]
    },
    {
      "cell_type": "code",
      "metadata": {
        "id": "lPjhfMZh1dbm",
        "outputId": "042f5d3d-8190-4499-f2b6-2ddfeb53a82a",
        "colab": {
          "base_uri": "https://localhost:8080/"
        }
      },
      "source": [
        "# Obtém pedido do cliente Lucas\n",
        "comprasDf.loc[\"Lucas\"]"
      ],
      "execution_count": null,
      "outputs": [
        {
          "output_type": "execute_result",
          "data": {
            "text/plain": [
              "macas       3\n",
              "laranjas    0\n",
              "Name: Lucas, dtype: int64"
            ]
          },
          "metadata": {},
          "execution_count": 9
        }
      ]
    },
    {
      "cell_type": "markdown",
      "metadata": {
        "id": "TpH6lh6Q150E"
      },
      "source": [
        "#### Contando elementos em um `DataFrame` ou `Series`"
      ]
    },
    {
      "cell_type": "code",
      "metadata": {
        "id": "sDSx6ecy2BMR"
      },
      "source": [
        "# Conta quantidade de índices (clientes) no DataFrame\n",
        "print(len(comprasDf))\n",
        "# Conta quantidade de itens na Serie criada nas celulas anteriores\n",
        "print(len(s1))"
      ],
      "execution_count": null,
      "outputs": []
    },
    {
      "cell_type": "markdown",
      "metadata": {
        "id": "hd4HbCVr2jkZ"
      },
      "source": [
        "#### Aplicando funções matemáticas a um `DataFrame` ou `Series`\n"
      ]
    },
    {
      "cell_type": "code",
      "metadata": {
        "id": "hu0AeS6E2jsy"
      },
      "source": [
        "# Calcula média dos valores de pedido do cliente Paulo\n",
        "comprasDf.loc[\"Paulo\"].mean()"
      ],
      "execution_count": null,
      "outputs": []
    },
    {
      "cell_type": "code",
      "metadata": {
        "id": "8_Fpqzx_4QHo"
      },
      "source": [
        "#Somatório das vendas de laranja (i.e., série criada nas celulas anteriores)\n",
        "s2.sum()"
      ],
      "execution_count": null,
      "outputs": []
    },
    {
      "cell_type": "code",
      "metadata": {
        "id": "SVRG_VB-4XTe"
      },
      "source": [
        "#Maior valor para cada coluna\n",
        "comprasDf.max()"
      ],
      "execution_count": null,
      "outputs": []
    },
    {
      "cell_type": "code",
      "metadata": {
        "id": "xOBfEO2f4QSm"
      },
      "source": [
        "#Menor valor para cada coluna\n",
        "comprasDf.min()"
      ],
      "execution_count": null,
      "outputs": []
    },
    {
      "cell_type": "code",
      "metadata": {
        "id": "1ldidC8_4Qe_"
      },
      "source": [
        "#Resumo estatístico do DataFrame\n",
        "comprasDf.describe()"
      ],
      "execution_count": null,
      "outputs": []
    },
    {
      "cell_type": "code",
      "metadata": {
        "id": "cw6bviHR4QdG"
      },
      "source": [
        "#Valores médios para cada coluna\n",
        "comprasDf.mean()"
      ],
      "execution_count": null,
      "outputs": []
    },
    {
      "cell_type": "code",
      "metadata": {
        "id": "KKasRqRM4QcQ"
      },
      "source": [
        "#Medianas para cada coluna\n",
        "comprasDf.median()"
      ],
      "execution_count": null,
      "outputs": []
    },
    {
      "cell_type": "markdown",
      "metadata": {
        "id": "mmOLDfI5GocL"
      },
      "source": [
        "#### Exportar dados de `DataFrames` para arquivos"
      ]
    },
    {
      "cell_type": "code",
      "metadata": {
        "id": "nzd-NOQdGxSw"
      },
      "source": [
        "# Exporta para arquivo CSV - compatível com Microsoft Excel\n",
        "comprasDf.to_csv('compras.csv')"
      ],
      "execution_count": null,
      "outputs": []
    },
    {
      "cell_type": "code",
      "metadata": {
        "id": "f1dpABPCG_YW"
      },
      "source": [
        "# Exporta para arquivo JSON\n",
        "comprasDf.to_csv('compras.json')"
      ],
      "execution_count": null,
      "outputs": []
    },
    {
      "cell_type": "markdown",
      "metadata": {
        "id": "3RCwLz4HHRz1"
      },
      "source": [
        "#### Importar dados de arquivos para `DataFrames`"
      ]
    },
    {
      "cell_type": "code",
      "metadata": {
        "id": "-d5qecUrHR8G"
      },
      "source": [
        "# Importa de arquivo CSV\n",
        "csvDf = pd.read_csv('compras.csv')\n",
        "display(csvDf)"
      ],
      "execution_count": null,
      "outputs": []
    },
    {
      "cell_type": "code",
      "metadata": {
        "id": "YbqjrfTfH_Mo"
      },
      "source": [
        "# Importa de arquivo CSV - CSVs não têm índices como os DataFrames, então devemos designar o index_col ao ler\n",
        "csvDf = pd.read_csv('compras.csv', index_col=0)\n",
        "display(csvDf)"
      ],
      "execution_count": null,
      "outputs": []
    },
    {
      "cell_type": "markdown",
      "metadata": {
        "id": "DbnoWvD1bdOs"
      },
      "source": [
        "### Pandas - **Exemplo prático 2**\n",
        "Nós iremos utilizar a base de dados do IMDB, um dos maiores repositórios de informações sobre filmes existentes. Esta base contém dados de 1.000 filmes entre 2006 e 2016.\n",
        "A ideia é utilizar as funcionalidades do Pandas e das demais bibliotecas de visualização para analisar os dados."
      ]
    },
    {
      "cell_type": "code",
      "metadata": {
        "id": "B97XnaGo0zkT",
        "outputId": "bd6baac3-e576-4476-b46d-6f953ab9c6c4",
        "colab": {
          "base_uri": "https://localhost:8080/"
        }
      },
      "source": [
        "# Efetua download das databases necessárias\n",
        "import os\n",
        "# Verifica se o arquivo já existe na instância atual.  Se não, faz download do github\n",
        "if not os.path.exists('nlp-class-resources/imdb-data/IMDB-Movie-Data.csv'):\n",
        "    print(\"Diretório ainda não existe!\")\n",
        "    print(\"Obtendo dados do github...\")\n",
        "\n",
        "    !git clone https://github.com/kunkaweb/nlp-class-resources.git\n",
        "      \n",
        "print('O diretório baixado contém:\\n',os.listdir('nlp-class-resources/imdb-data'))"
      ],
      "execution_count": null,
      "outputs": [
        {
          "output_type": "stream",
          "name": "stdout",
          "text": [
            "Diretório ainda não existe!\n",
            "Obtendo dados do github...\n",
            "Cloning into 'nlp-class-resources'...\n",
            "remote: Enumerating objects: 11, done.\u001b[K\n",
            "remote: Counting objects: 100% (11/11), done.\u001b[K\n",
            "remote: Compressing objects: 100% (8/8), done.\u001b[K\n",
            "remote: Total 11 (delta 0), reused 0 (delta 0), pack-reused 0\u001b[K\n",
            "Unpacking objects: 100% (11/11), 925.68 KiB | 4.56 MiB/s, done.\n",
            "O diretório baixado contém:\n",
            " ['IMDB-Movie-Data.csv']\n"
          ]
        }
      ]
    },
    {
      "cell_type": "code",
      "metadata": {
        "id": "3P0Y4PwK1bwj"
      },
      "source": [
        "# Importa arquivo CSV para um DataFrame\n",
        "# Estamos carregando esse conjunto de dados de um CSV e designando os títulos dos filmes como nosso índice\n",
        "movies_df = pd.read_csv(\"nlp-class-resources/imdb-data/IMDB-Movie-Data.csv\", index_col=\"Title\")"
      ],
      "execution_count": null,
      "outputs": []
    },
    {
      "cell_type": "markdown",
      "metadata": {
        "id": "1mUXpEAK11YQ"
      },
      "source": [
        "#### Referência visual da base de dados"
      ]
    },
    {
      "cell_type": "code",
      "metadata": {
        "id": "wZ3folQ619Qz"
      },
      "source": [
        "# Mostra as 5 primeiras linhas\n",
        "movies_df.head()"
      ],
      "execution_count": null,
      "outputs": []
    },
    {
      "cell_type": "code",
      "metadata": {
        "id": "terrr7zR2HlG"
      },
      "source": [
        "# Mostra as 5 ultimas linhas\n",
        "movies_df.tail()"
      ],
      "execution_count": null,
      "outputs": []
    },
    {
      "cell_type": "markdown",
      "metadata": {
        "id": "BcA8y3hS2od5"
      },
      "source": [
        "#### Alterando nome de colunas"
      ]
    },
    {
      "cell_type": "code",
      "metadata": {
        "id": "7RlbA3jN2onf",
        "outputId": "8639ab6c-9ed2-4c7e-f715-47baf26bb6e2",
        "colab": {
          "base_uri": "https://localhost:8080/"
        }
      },
      "source": [
        "# Mostra os nomes atuais\n",
        "movies_df.columns"
      ],
      "execution_count": null,
      "outputs": [
        {
          "output_type": "execute_result",
          "data": {
            "text/plain": [
              "Index(['Rank', 'Genre', 'Description', 'Director', 'Actors', 'Year',\n",
              "       'Runtime (Minutes)', 'Rating', 'Votes', 'Revenue (Millions)',\n",
              "       'Metascore'],\n",
              "      dtype='object')"
            ]
          },
          "metadata": {},
          "execution_count": 16
        }
      ]
    },
    {
      "cell_type": "code",
      "metadata": {
        "id": "4rk8nGxj2xUZ"
      },
      "source": [
        "movies_df.rename(columns={\n",
        "  'Runtime (Minutes)': 'Runtime',\n",
        "  'Revenue (Millions)': 'Revenue_millions'\n",
        "}, inplace=True)\n",
        "\n",
        "movies_df.columns"
      ],
      "execution_count": null,
      "outputs": []
    },
    {
      "cell_type": "markdown",
      "metadata": {
        "id": "LO5TR-OF39eI"
      },
      "source": [
        "#### Verificando e tratando dados nulos\n",
        "Como lidar com valores nulos (não-existentes)?\n",
        "\n",
        "1.   Apagar linhas ou colunas com valores nulos\n",
        "2.   Substituir valores nulos por não-nulos\n",
        "\n"
      ]
    },
    {
      "cell_type": "code",
      "metadata": {
        "id": "iErVrA5h4U9F"
      },
      "source": [
        "# Mostra quais células do DataFrame são nulas\n",
        "# Observe que isnull() retorna um DataFrame em que cada célula é True ou False, dependendo do status da célula\n",
        "movies_df.isnull()"
      ],
      "execution_count": null,
      "outputs": []
    },
    {
      "cell_type": "code",
      "metadata": {
        "id": "XZHQMBeD4yk8"
      },
      "source": [
        "# Conta o número de nulos em cada coluna\n",
        "movies_df.isnull().sum()"
      ],
      "execution_count": null,
      "outputs": []
    },
    {
      "cell_type": "markdown",
      "metadata": {
        "id": "-ZNED8K158aU"
      },
      "source": [
        "##### Opção 1 - Removendo nulos"
      ]
    },
    {
      "cell_type": "code",
      "metadata": {
        "id": "Ps6Af9Fy5BfX"
      },
      "source": [
        "# Cria um novo DataFrame sem as linhas que contém valores nulos\n",
        "new_df = movies_df.dropna()\n",
        "new_df.shape"
      ],
      "execution_count": null,
      "outputs": []
    },
    {
      "cell_type": "code",
      "metadata": {
        "id": "cikHVkl_5YWW"
      },
      "source": [
        "# Perceba que o DataFrame original não é alterado\n",
        "movies_df.shape"
      ],
      "execution_count": null,
      "outputs": []
    },
    {
      "cell_type": "code",
      "metadata": {
        "id": "Cd-9ybOP5izK"
      },
      "source": [
        "# Neste caso as colunas que contiverem valores nulos serão descartadas\n",
        "new_df = movies_df.dropna(axis=1)\n",
        "new_df.shape"
      ],
      "execution_count": null,
      "outputs": []
    },
    {
      "cell_type": "markdown",
      "metadata": {
        "id": "V-9omhss6CNI"
      },
      "source": [
        "##### Opção 2 - Substituindo nulos"
      ]
    },
    {
      "cell_type": "code",
      "metadata": {
        "id": "806bm0ce6Fqk"
      },
      "source": [
        "# Extrai a coluna \"revenue_millions\" - teremos uma Series na variável revenue\n",
        "revenue = movies_df['Revenue_millions']\n",
        "revenue.head()"
      ],
      "execution_count": null,
      "outputs": []
    },
    {
      "cell_type": "code",
      "metadata": {
        "id": "Dclvun7V6lWl"
      },
      "source": [
        "# Obtém a média de revenue\n",
        "revenue_mean = revenue.mean()\n",
        "revenue_mean"
      ],
      "execution_count": null,
      "outputs": []
    },
    {
      "cell_type": "code",
      "metadata": {
        "id": "nS6D2qil6x_R"
      },
      "source": [
        "# A função fillna preencherá todos valores nulos com a valor da média que calculamos\n",
        "# A parâmetro inplace=True define que as alterações também serão feitas no DataFrame original de onde tiramos esta Series\n",
        "revenue.fillna(revenue_mean, inplace=True)"
      ],
      "execution_count": null,
      "outputs": []
    },
    {
      "cell_type": "code",
      "metadata": {
        "id": "z8JyL9CS7GS5"
      },
      "source": [
        "# Não há mais valores nulos na coluna Revenue_millions\n",
        "movies_df.isnull().sum()"
      ],
      "execution_count": null,
      "outputs": []
    },
    {
      "cell_type": "markdown",
      "metadata": {
        "id": "QdyIyMzy7V73"
      },
      "source": [
        "#### Entendendo os dados"
      ]
    },
    {
      "cell_type": "code",
      "metadata": {
        "id": "P3MDm-oG7cC8"
      },
      "source": [
        "# Resumo de distribuição do DataFrame\n",
        "movies_df.describe()"
      ],
      "execution_count": null,
      "outputs": []
    },
    {
      "cell_type": "code",
      "metadata": {
        "id": "sPjYqooy7hEj"
      },
      "source": [
        "# Resumo da coluna genre\n",
        "# Mostra que a coluna de gênero tem 207 valores únicos, o valor mais alto é “Ação/ Aventura/Ficção Científica”, que aparece 50 vezes (frequência)\n",
        "movies_df['Genre'].describe()"
      ],
      "execution_count": null,
      "outputs": []
    },
    {
      "cell_type": "code",
      "metadata": {
        "id": "uDIKX39w77FF"
      },
      "source": [
        "# Mostra a frequência de todos valores\n",
        "movies_df['Genre'].value_counts().head(10)"
      ],
      "execution_count": null,
      "outputs": []
    },
    {
      "cell_type": "code",
      "metadata": {
        "id": "NqJnGB1J8HDA"
      },
      "source": [
        "# Mostra o índice de correlação entre colunas\n",
        "movies_df.corr()"
      ],
      "execution_count": null,
      "outputs": []
    },
    {
      "cell_type": "markdown",
      "metadata": {
        "id": "Xvn7fcjZ8RuJ"
      },
      "source": [
        "*   As tabelas de correlação são uma representação numérica dos relacionamentos entre duas variáveis no dataset\n",
        "*   A amplitude do índice de correlação é de -1 até +1 \n",
        "*   Números positivos indicam uma correlação positiva e números negativos representam uma correlação negativa. Quando o índice = 1.0 indica uma correlação perfeita\n",
        "*  Observando o resultado,  vê-se que a correlação entre “votes” e “revenue_millions” é de 0.6\n"
      ]
    },
    {
      "cell_type": "markdown",
      "metadata": {
        "id": "tD9JSEd0-yA5"
      },
      "source": [
        "#### Extraindo colunas do DataFrame"
      ]
    },
    {
      "cell_type": "code",
      "metadata": {
        "id": "SS9BXE_v-yUg"
      },
      "source": [
        "subset = movies_df[['Genre', 'Rating']]\n",
        "subset.head()"
      ],
      "execution_count": null,
      "outputs": []
    },
    {
      "cell_type": "markdown",
      "metadata": {
        "id": "4XTCsoA5-9t7"
      },
      "source": [
        "#### Extraindo linhas do DataFrame\n"
      ]
    },
    {
      "cell_type": "code",
      "metadata": {
        "id": "0jh_80Fv-92H"
      },
      "source": [
        "# Localiza pelo índice principal (nesse caso o título)\n",
        "prom = movies_df.loc[\"Prometheus\"]\n",
        "prom"
      ],
      "execution_count": null,
      "outputs": []
    },
    {
      "cell_type": "code",
      "metadata": {
        "id": "Oq5HhCqP_Rc1"
      },
      "source": [
        "#Localiza pelo índice numérico\n",
        "prom = movies_df.iloc[1]\n",
        "prom"
      ],
      "execution_count": null,
      "outputs": []
    },
    {
      "cell_type": "code",
      "metadata": {
        "id": "BLmwZj1G_fXU"
      },
      "source": [
        "# Obtém todas linhas de Prometheus até Sing\n",
        "movie_subset = movies_df.loc['Prometheus':'Sing']\n",
        "movie_subset"
      ],
      "execution_count": null,
      "outputs": []
    },
    {
      "cell_type": "code",
      "metadata": {
        "id": "X1XLvhKf_nwp"
      },
      "source": [
        "# Mesma coisa porém com o índice numérico\n",
        "movie_subset = movies_df.iloc[1:4]\n",
        "movie_subset"
      ],
      "execution_count": null,
      "outputs": []
    },
    {
      "cell_type": "markdown",
      "metadata": {
        "id": "e4xDnTvy_xHY"
      },
      "source": [
        "#### Seleção de dados condicionalmente"
      ]
    },
    {
      "cell_type": "code",
      "metadata": {
        "id": "bLvl3frk_0B2"
      },
      "source": [
        "# Todos filmes dirigidos por Ridley Scott serão atribuidos True na Series retornada\n",
        "condition = (movies_df['Director'] == \"Ridley Scott\")\n",
        "condition.head()"
      ],
      "execution_count": null,
      "outputs": []
    },
    {
      "cell_type": "code",
      "metadata": {
        "id": "cubBXQLHAOQ6"
      },
      "source": [
        "# Filtra os filmes NÃO dirigidos pelo diretor\n",
        "movies_df[movies_df['Director'] != \"Ridley Scott\"]"
      ],
      "execution_count": null,
      "outputs": []
    },
    {
      "cell_type": "code",
      "metadata": {
        "id": "GXWYb33EAawc"
      },
      "source": [
        "# Filtra filmes com nota maior que 8.8\n",
        "movies_df[movies_df['Rating'] >= 8.8]"
      ],
      "execution_count": null,
      "outputs": []
    },
    {
      "cell_type": "code",
      "metadata": {
        "id": "2zSDumarA4j3"
      },
      "source": [
        "# Filmes dirigidos por Christopher Nolan ou Ridley Scott\n",
        "movies_df[(movies_df['Director'] == 'Christopher Nolan') | (movies_df['Director'] == 'Ridley Scott')]\n"
      ],
      "execution_count": null,
      "outputs": []
    },
    {
      "cell_type": "code",
      "metadata": {
        "id": "hM3Ym-O1BMpx"
      },
      "source": [
        "# Filtrar todos os filmes que foram lançados entre 2005 e 2010 e tenham uma classificação acima de 8.0, mas tenham receita abaixo do 25º percentil\n",
        "movies_df[ ((movies_df['Year'] >= 2005) & (movies_df['Year'] <= 2010)) \n",
        "& (movies_df['Rating'] > 8.0) \n",
        "& (movies_df['Revenue_millions'] < movies_df['Revenue_millions'].quantile(0.25)) \n",
        "]\n"
      ],
      "execution_count": null,
      "outputs": []
    },
    {
      "cell_type": "markdown",
      "metadata": {
        "id": "Ui6iy41YBe2D"
      },
      "source": [
        "#### Aplicando funções no DataFrame"
      ]
    },
    {
      "cell_type": "code",
      "metadata": {
        "id": "K3Y5Ye6hBiEp"
      },
      "source": [
        "def rating_function(x):\n",
        "  if x >= 8.0:\n",
        "    return \"bom\"\n",
        "  else:\n",
        "    return \"ruim\"\n",
        "\n",
        "# Método passa todos os valores da coluna de “rating” pela “rating_function”\n",
        "movies_df[\"Rating_category\"] = movies_df[\"Rating\"].apply(rating_function)\n",
        "movies_df.head()\n"
      ],
      "execution_count": null,
      "outputs": []
    },
    {
      "cell_type": "markdown",
      "metadata": {
        "id": "Wgjcy1BUKbDJ"
      },
      "source": [
        "#### Ordenando dados"
      ]
    },
    {
      "cell_type": "code",
      "metadata": {
        "id": "ihTHN1zHKUeS"
      },
      "source": [
        "# Ordena pelo revenue de maneira descendente\n",
        "print(movies_df['Revenue_millions'].sort_values(ascending=False).head(20))"
      ],
      "execution_count": null,
      "outputs": []
    },
    {
      "cell_type": "code",
      "metadata": {
        "id": "YUiRK25kMfRR"
      },
      "source": [
        "# Obtém os filmes mais curtos\n",
        "movies_df.sort_values('Runtime').head()"
      ],
      "execution_count": null,
      "outputs": []
    },
    {
      "cell_type": "markdown",
      "metadata": {
        "id": "rf7pVruWCBT4"
      },
      "source": [
        "## Matplotlib & Seaborn - Plotagem de gráficos\n",
        "Continuaremos a trabalhar com os dados do IMDB, porém agora pensando em como plotar gráficos. As duas bibliotecas tem funções bem similares, fica a seu critério decidir qual usar.\n",
        "\n",
        "*   Quando usarmos a variável \"plt\" --> matplotlib\n",
        "*   Quando usarmos a variável \"sns\" --> seaborn\n",
        "\n",
        "Dicas:\n",
        "\n",
        "*   Dica 1: Para variáveis nominais (categorias), use Bar Charts e Boxplots\n",
        "*   Dica 2: Para variáveis contínuas, utilize Histogramas, Scatterplots, gráficos de linhas e boxplots\n",
        "\n",
        "\n"
      ]
    },
    {
      "cell_type": "code",
      "metadata": {
        "id": "ch_Nxav2DDoz"
      },
      "source": [
        "# Importa biblioteca matplotlib\n",
        "import matplotlib.pyplot as plt \n",
        "# Atualiza tamanho padrão dos gráficos\n",
        "plt.rcParams.update({'font.size': 20, 'figure.figsize': (10, 8)})"
      ],
      "execution_count": null,
      "outputs": []
    },
    {
      "cell_type": "code",
      "metadata": {
        "id": "SLW7sliFDa57"
      },
      "source": [
        "# Relação entre Revenue_millions e Rating\n",
        "movies_df.plot(kind='scatter', x='Rating', y='Revenue_millions', title='Revenue (millions) vs Rating');"
      ],
      "execution_count": null,
      "outputs": []
    },
    {
      "cell_type": "code",
      "metadata": {
        "id": "xrK-KkhrD5u9"
      },
      "source": [
        "# Histograma de uma única coluna\n",
        "movies_df['Rating'].plot(kind='hist', title='Rating');"
      ],
      "execution_count": null,
      "outputs": []
    },
    {
      "cell_type": "code",
      "metadata": {
        "id": "0ifsGNeMJt0i"
      },
      "source": [
        "# Histograma usando Seaborn\n",
        "sns.countplot(x='Year', data=movies_df)\n",
        "plt.title('Year')\n",
        "plt.show()"
      ],
      "execution_count": null,
      "outputs": []
    },
    {
      "cell_type": "code",
      "metadata": {
        "id": "foZXheaMNJWO"
      },
      "source": [
        "# Histograma de duração - bins define a quantidade de intervalos que vc deseja mostrar\n",
        "movies_df.Runtime.plot(kind='hist', bins=20)"
      ],
      "execution_count": null,
      "outputs": []
    },
    {
      "cell_type": "code",
      "metadata": {
        "id": "xODMHxAwNtEE"
      },
      "source": [
        "#Gráfico que mostra quantos filmes estão em cada gênero - Top 10\n",
        "movies_df.Genre.value_counts().head(10).plot(kind='bar', title='Top 10 Movies Genres')\n",
        "plt.xlabel('Genre')\n",
        "plt.ylabel('Number of Movies')"
      ],
      "execution_count": null,
      "outputs": []
    },
    {
      "cell_type": "code",
      "metadata": {
        "id": "2xXqdl3MO_E8"
      },
      "source": [
        "# Ganhos de Ridley Scott durante os anos\n",
        "movies_df[movies_df['Director'] == \"Ridley Scott\"].sort_values(\"Year\").plot(kind='line',x='Year',y='Revenue_millions',style='.-')"
      ],
      "execution_count": null,
      "outputs": []
    },
    {
      "cell_type": "markdown",
      "metadata": {
        "id": "dnz9UXlqE5sY"
      },
      "source": [
        "![Quartis](https://docs.google.com/uc?export=download&id=1FxT3JZPo2cYEWuXNHd8u8wFqkoAB2CLn)"
      ]
    },
    {
      "cell_type": "code",
      "metadata": {
        "id": "Nc2YXz6LFOW8"
      },
      "source": [
        "movies_df['Rating'].plot(kind=\"box\");"
      ],
      "execution_count": null,
      "outputs": []
    }
  ]
}